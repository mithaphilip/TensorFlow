{
 "cells": [
  {
   "cell_type": "markdown",
   "metadata": {},
   "source": [
    "\n",
    "# AN INTRODUCTION TO COMPUTING WITH TENSOR FLOW \n",
    "***\n"
   ]
  },
  {
   "cell_type": "markdown",
   "metadata": {},
   "source": [
    "Tensor flow can be visualised as computations in a graph with nodes that has definite operations. In simple terms, tensor flow carries out computations in the form of graphs. Nodes of the graph are Ops (Operations): Handles zero or multiple tensors to output zero or multiple tensors. Tensors are multidimensional array / list.  Data is represented using tensor data structure which includes: Ranks, Shapes, Types. It is the tensors that are passed between the nodes in the graph. \n",
    "Tensor flow computationsa are mainly carried out using tensors such as variable tensors constant tensors and placeholder tensors."
   ]
  },
  {
   "cell_type": "markdown",
   "metadata": {},
   "source": [
    "Every Op or operation object execution and tensor evaluations, happens within a session. A session owns all the results generated and its related resources used within that session. Launch a session using the following command: \n",
    "\n",
    "<center>sess = tf.Session()</center>\n",
    "\n",
    "If the above commands are used then it is important that these resources are released at the end of a session using close() command. But for simplicity, it is adviced to use context manager session; so that resource release happens automatically.\n",
    "For the execution of an Op (node) in tensor flow to happen, execute using session.run() command as: \n",
    "<center>print(sess.run(input))</center>\n",
    "\n",
    "Example 1: Lets consider a simple tensor computation:  "
   ]
  },
  {
   "cell_type": "code",
   "execution_count": 18,
   "metadata": {
    "collapsed": false
   },
   "outputs": [
    {
     "name": "stdout",
     "output_type": "stream",
     "text": [
      "Product is:  [[14 28]\n",
      " [49 49]]\n",
      "The shape of the product tensor:  (2, 2)\n"
     ]
    }
   ],
   "source": [
    "#```python\n",
    "# Objective of the program is to do a simple multiplication on an input tensor of \n",
    "# constant values\n",
    "# To use tensor flow; import it\n",
    "import tensorflow as tf\n",
    "# tf.constant creates constant values. The below command creates a tensor;shape (2,2) \n",
    "# with constant values. Be sure that each element are separated by comma delimiter and also\n",
    "# that the two operands with which operation is performed are of the same data type! \n",
    "val = tf.constant([[2,4],[7,7]],name = \"constantValue\")\n",
    "# tf.constant creates a constant value with no shape\n",
    "singleValue = tf.constant(7,name = \"SingleValueConstant\")\n",
    "# tf.Variable creates a storage variable, where values can be updated.\n",
    "# In a graph, each variable corresponds corresponds to a node\n",
    "storageVal = tf.Variable(val *singleValue, name = \"StorageVaraible\" )\n",
    "\n",
    "# The below command takes care of the Initialization part. \n",
    "# In the absence of this command; you would receive a \n",
    "# 'Failed precondition error; which is to do with uninitialised varaibles' \n",
    "initialization = tf.initialize_all_variables()\n",
    "# USING CONTEXT MANAGER SESSION FOR EXECUTION\n",
    "with tf.Session() as session:\n",
    "        session.run(initialization)\n",
    "        print \"Product is: \",session.run(storageVal)\n",
    "        print \"The shape of the product tensor: \",(storageVal.get_shape())\n",
    "\n",
    "# ```"
   ]
  },
  {
   "cell_type": "markdown",
   "metadata": {},
   "source": [
    "Tensor dimensionality is denoted using shape, rank and dimension number. Tensor with rank 0 is a scalar. A rank 1 tensor is a vector. A rank 2 tensor is a matrix, ie you can access element using 2 variables like tensor[i,j]; here the dimension is 2D. In the case of rank 3, access it using tensor[i,j,k];here dimension is 3D. \n",
    "\n",
    "The tensor elements can be subjected to slice, tile operations. The below example deals with slice command. \n",
    "\n",
    "Example 2:"
   ]
  },
  {
   "cell_type": "code",
   "execution_count": null,
   "metadata": {
    "collapsed": true
   },
   "outputs": [],
   "source": [
    "import tensorflow as tf\n",
    "import numpy as np\n",
    "val1 = tf.placeholder(tf.float32,shape = (8,8))\n",
    "val2 = tf.placeholder(tf.float32, shape = (8,8))\n",
    "randomNos2 = np.random.rand(8,8)\n",
    "product = tf.matmul(val1,val2)\n",
    "inpSlice = tf.constant([[[1,11,111],[2,22,222]],\n",
    "                  [[3,33,333],[4,44,444]],\n",
    "                  [[5,55,555],[6,66,666]]])\n",
    "\n",
    "init = tf.initialize_all_variables()\n",
    "# Softplus activation function computes log(exp(featurePoints)+1)\n",
    "softPlus = tf.nn.softplus(product)\n",
    "with tf.Session() as sess:\n",
    "        sess.run(init)\n",
    "        print (sess.run(product,feed_dict={val1:randomNos2, val2:randomNos2}))\n",
    "        result = sess.run(softPlus,feed_dict={val1:randomNos2, val2:randomNos2})\n",
    "        # The slicing function takes the arguments input, size and begin\n",
    "        print (result)\n",
    "        print \"SLICING ON TENSORS: \"\n",
    "        print \"Applying slicing on softplus output\",(sess.run(tf.slice(result, [1, 1], [1, 1])))\n",
    "\n",
    "        print \"Access1: \",(sess.run(tf.slice(inpSlice,[0,0,0],[1,1,1])))\n",
    "        print \"Access2: \",(sess.run(tf.slice(inpSlice,[0,0,0],[1,1,2])))\n",
    "        print \"Access3: \",(sess.run(tf.slice(inpSlice,[0,0,0],[1,1,3])))\n",
    "# Interpretation of slice arguments: \n",
    "# The begin parameter begin(i,j,k): will enable access to 'i' ranks; spanning 'j' dimensions; \n",
    "# the number of values returned is 'k'\n",
    "# This will access elements at the 2ranks, from both dimensions- starting from the range 0 as size is specified as 0\n",
    "\n",
    "        print \"Access7: \",(sess.run(tf.slice(inpSlice,[0,0,0],[2,1,1])))\n",
    "        print \"Access8: \",(sess.run(tf.slice(inpSlice,[0,0,0],[3,2,1])))\n"
   ]
  },
  {
   "cell_type": "markdown",
   "metadata": {},
   "source": [
    " Example 3: \n",
    " Tensor flow offers a variety of basic arithemtic functions to do computations. \n",
    " A few of them are implemented below for ease."
   ]
  },
  {
   "cell_type": "markdown",
   "metadata": {},
   "source": [
    "``` python\n",
    "# The following program shows the basic arithemtic operations using Tenspr Flow and the #  arguments required to be passed.\n",
    "# Takes arguments: x input,y input, name=None (optional; without space)\n",
    "# The x input and y input should be tensors;Must be one of the types: float32, float 64, uint8, int16, int32, int 64, complex64\n",
    "# y should be of the same type as x input; variables are case sensitive\n",
    "import tensorflow as tf\n",
    "#  Input constant float values. \n",
    "a = tf.constant([[4.0, 8.0,10.0],[20.0,40.0,80.0]])\n",
    "b = tf.constant([[8.0, 16.0,15.0],[25.0,40.0,50.0]])\n",
    "# The common arithemtic operators can be implemented as below:\n",
    "sumVal = tf.add (a,b, name = \"AdditiveOp\")\n",
    "#TrueDiv function produces floating point quotients; Here integer operands are converted to floating point values\n",
    "#If integer values of type int8 or int16: Casted to float32 / If integer values of type int32 or int64: Casted to float64\n",
    "#If a and b are of different types, it gives error\n",
    "QuoValtrue = tf.truediv(a,b)\n",
    "# The cross function provides the cross product of 2 values whose innermost dimension 3\n",
    "crossVal = tf.cross(a,b)\n",
    "#Provides remainder with respect to each element in the tensor\n",
    "modVal = tf.mod(a,b)\n",
    "# Provides absolute value of input tensor\n",
    "negTensor = tf.constant([-2,-4,-6])\n",
    "absVal = tf.abs(negTensor)\n",
    "# Produces -1 if negative, 0 if value is 0 & 1 if positive value\n",
    "# The input tensor should be either float32, float64, int32, int64\n",
    "signVal = tf.sign(negTensor, name = \"direction\")\n",
    "# Provides the reciprocal of a value\n",
    "# The input tensor should be of type float32,float64,int32,complex64,int64\n",
    "invVal = tf.inv(a, name = \"Inverse\")\n",
    "# The below function finds the reciprocal of the square root a number; tensor accepts :float32,float64,int32,complex64,int64\n",
    "# Mathematical functions: tf.sqrt(a), tf.round(a): Rounds values to ceiling value; the tensor should be either float or double,\n",
    "# tf.square(a): finds the square\n",
    "revSqVal = tf.rsqrt(a, name = \"ReverseSqrt\")\n",
    "# The below function computes to the power of the tensor value;If output exceeds the limit of datatype allowed, it gives 0 as output for that tensor element \n",
    "powVal = tf.pow(absVal,absVal)\n",
    "#The exponential value is obtained for tensors of types: float32,float64,complex64,int64\n",
    "#Similarly, natural log is found using tf.log(<input tensor>) function\n",
    "expVal = tf.exp(a, name = \"Exponential\")\n",
    "#Other functions include:\n",
    "# tf.ceil(a,name = \"Ceil\";produces smaller value > x & tf.floor(a, name = \"floor\");produces bigger integer < x; \n",
    "# both accepts values of type :float32 or float64\n",
    "\n",
    "# tf.maximum function & tf.minimum produces the max between two values\n",
    "tf.maximum(a,b,name = \"Max\")\n",
    "tf.minimum(a,b,name = \"Min\")\n",
    "\n",
    "init = tf.initialize_all_variables()\n",
    "\n",
    "# With the below commands, the Op gets executed\n",
    "with tf.Session() as sess:\n",
    "        sess.run(init)\n",
    "        print \"Additive: \"\n",
    "        print (sess.run(sumVal))\n",
    "#       sub,div,mul resluts can be obtained in the same manner.\n",
    "        print \"Quotient from Truediv function: \"\n",
    "        print (sess.run(QuoValtrue))\n",
    "        print \"Cross Product: \",(sess.run(crossVal))\n",
    "        print \"Element by element Mod value: \",(sess.run(modVal))\n",
    "        print \"Absolute: \",(sess.run(absVal))\n",
    "        print \"Element by element Sign value: \",(sess.run(signVal))\n",
    "        print \"Element to the Power a: \",(sess.run(powVal))\n",
    "        print \"Function to generate exponential values: \",(sess.run(expVal))\n",
    "\n",
    "\n",
    "```"
   ]
  },
  {
   "cell_type": "markdown",
   "metadata": {},
   "source": []
  },
  {
   "cell_type": "markdown",
   "metadata": {},
   "source": [
    "Example 4: The objective of this program is to generate a simple tensor board that describes the main events in the program below. The following tensor flow program produces a tensor using random numbers, and reducing functions that calculates: mean, sum, products of tensor elements are carried out:"
   ]
  },
  {
   "cell_type": "code",
   "execution_count": null,
   "metadata": {
    "collapsed": true
   },
   "outputs": [],
   "source": [
    "import tensorflow as tf\n",
    "import numpy as np\n",
    "# The below command creates Op nodes. \n",
    "# A constant tensor is denoted using a circle. \n",
    "with tf.name_scope('Values') as scope:\n",
    "    x = tf.Variable(0, name='x')\n",
    "    y = tf.constant(5)\n",
    "    z = x+y\n",
    "model = tf.initialize_all_variables()\n",
    "\n",
    "with tf.Session() as session:\n",
    "    for i in range(5):\n",
    "        session.run(model)\n",
    "        print \"At Loop: \",i\n",
    "        data = np.random.randint(10, size=10)\n",
    "        for j in range(len(data)-1):\n",
    "                sumVal = tf.add(z,data[0:j+1])\n",
    "                print \"Sum is:\",\n",
    "                result = session.run(sumVal)\n",
    "                print result\n",
    "\n",
    "        print \"Last sumval: \",result\n",
    "        with tf.name_scope('Mean') as scope:\n",
    "                mean = tf.reduce_mean(tf.to_float((sumVal)))\n",
    "        mean = tf.reduce_mean(tf.to_float((sumVal)))\n",
    "        print \"Reduced Mean is : \",session.run(tf.reduce_mean(tf.to_float((sumVal))))\n",
    "        _=tf.scalar_summary('Mean', mean)\n",
    "        merged = tf.merge_all_summaries()\n",
    "        writer = tf.train.SummaryWriter(\"/tmp/mnist_logs\", session.graph_def)\n",
    "        model = tf.initialize_all_variables()\n",
    "        session.run(model)"
   ]
  },
  {
   "cell_type": "markdown",
   "metadata": {},
   "source": [
    "Tensor Board provides a visualization of the model that you create. It deals with 2 types of connections: Control dependency(denoted using dotted lines) and Data dependency(denoted using solid lines). \n",
    "To record the variations produced by a particular function, provide them as inputs to scalar_summary ops with a tag name. Histogram_summary provides the distribution of an output variable from a layer.\n",
    "tf.merge_all_summaries will merge the summaries created within the program, which is then directed to a summary_writer. Specify a logdir for summary writer to write the events.\n"
   ]
  },
  {
   "cell_type": "markdown",
   "metadata": {},
   "source": [
    "To get the tensor board launched as below:\n",
    "- run the command :\n",
    "        tensorboard --logdir = /tmp/mnist_logs \n",
    "- Open a browser and navigate to \n",
    "        http:<server>:6006"
   ]
  },
  {
   "cell_type": "markdown",
   "metadata": {},
   "source": [
    "![eximage](/TensorFlow/images/tensorboard.png)"
   ]
  },
  {
   "cell_type": "markdown",
   "metadata": {},
   "source": [
    "Example 5:\n",
    "Consider a simple model which calculates a new state using the error obtained from the previous state.The functions add, sub forms a node in the graph with their own definite operations. They produce zero or more tensors as inputs for the next set of nodes:\n"
   ]
  },
  {
   "cell_type": "code",
   "execution_count": null,
   "metadata": {
    "collapsed": true
   },
   "outputs": [],
   "source": [
    "#```python\n",
    "import tensorflow as tf\n",
    "# Variables: Memory Buffers, with tensors that update and hold values\n",
    "# Needs explicit initializations\n",
    "# tf.Variables creates a variable with value 1.\n",
    "currState = tf.Variable(1)\n",
    "constValue = tf.constant(5)\n",
    "cProd = currState *5\n",
    "#Subtraction operation: cProd - currState\n",
    "interValue = tf.sub(cProd,currState)\n",
    "#Addition\n",
    "newState = tf.add(currState,interValue)\n",
    "#The below operation is performed once the run command is executed\n",
    "update = tf.assign(currState,newState)\n",
    "#Whenever a variable is created, it is an empty node. It is only by initializing them the \n",
    "# variable gets filled with the content, which is a value\n",
    "init_op = tf.initialize_all_variables()\n",
    "#Within Session class, the operations are executed and datas in the form of \n",
    "#tensors are evaluated\n",
    "with tf.Session() as sess:\n",
    "        sess.run(init_op)\n",
    "        #The below statement will execute to generate the currState value\n",
    "        print(sess.run(currState))\n",
    "        for _ in range(5):\n",
    "                sess.run(update)\n",
    "                #print(sess.run(currState))\n",
    "                print (sess.run([currState, interValue]))\n",
    "                \n",
    "#```"
   ]
  },
  {
   "cell_type": "markdown",
   "metadata": {},
   "source": [
    "### INTRODUCING PLACEHOLDERS"
   ]
  },
  {
   "cell_type": "markdown",
   "metadata": {},
   "source": [
    "They are used to provide input whenever tensor flow is made to run computation. To mention a dimension of any length, None can be specified in the shape argument. The below example which deals with matrix multiplication of tensors-generated using the random function, provides an understanding of working with placeholder values.\n",
    "\n",
    "Example 6:"
   ]
  },
  {
   "cell_type": "code",
   "execution_count": null,
   "metadata": {
    "collapsed": true
   },
   "outputs": [],
   "source": [
    "# The objective of this program is to familiarise with the use of placeholders and \n",
    "# a few matrix arithmetic functions\n",
    "# Using placeholder value inidicates directing the tensor \n",
    "# value into Operations in graph.\n",
    "# Placeholders should always fed with feed_dict argument while using Session.run()/tensor.eval()/operation.run() command\n",
    "# Takes arguments: dtype, shape(optional),name(optional)\n",
    "# the dtype elements indicate the type of tensor. For eg: float32, complex64, int8, qint8, bool, string etc\n",
    "import tensorflow as tf\n",
    "import numpy as np\n",
    "val1 = tf.placeholder(tf.float32,shape = (8,8))\n",
    "val2 = tf.placeholder(tf.float32, shape = (8,8))\n",
    "randomNos2 = np.random.rand(8,8)\n",
    "# tf.random_normal : Generates random numbers following normal distribution with mean =0.0, stddev = 1.0, dtype = tf.float32\n",
    "randomNormal = tf.Variable(tf.random_normal([8,8]),name = 'NormalDistribution')\n",
    "# Below command creates an OP (Operation) of type MatMul; \n",
    "product = tf.matmul(val1,val2)\n",
    "matInv = tf.matrix_inverse(product, name=\"MatrixInverse\")\n",
    "matDeter = tf.matrix_determinant(val1,name =\"MatrixDeterminant\")\n",
    "eigenVec = tf.self_adjoint_eig(randomNormal, name = \"EigenVectors\")\n",
    "# Unless specified, both val1 and val2 has to be of placeholder type input or they both\n",
    "# have to be of Variable type which doesnt require initialization using feed_dict\n",
    "# addition = tf.add(randomNormal,val1) # This command will give an invalid argument error as val1 \n",
    "#randomNormal are variable and placeholder values respectively.\n",
    "init = tf.initialize_all_variables()\n",
    "# With the below commands, the Op gets executed\n",
    "with tf.Session() as sess:\n",
    "        sess.run(init)\n",
    "        print (sess.run(product,feed_dict={val1:randomNos2, val2:randomNos2}))\n",
    "        print \"INVERSE: \",(sess.run(matInv,feed_dict={val1:randomNos2, val2:randomNos2}))\n",
    "# get_shape(): Returns the shape of a tensor; which would be either Fully-known shape(size and number of dimensions are known) or \n",
    "# Partially-known shape(number of dimensions known but size is unknown) or Unknown Shape(as the name says, number of \n",
    "# dimensions and size are unknown)\n",
    "        print \"SHAPE OF PRODUCT TENSOR: \",(product.get_shape())  \n",
    "        \n",
    "        print \"MATRIX DETERMINANT: \",(sess.run(matDeter,feed_dict={val1:randomNos2}))\n",
    "        \n",
    "        print \"EIGEN VECTORS: \",sess.run(eigenVec)\n",
    "        \n",
    "#print \"Addition\",sess.run(addition)\n"
   ]
  },
  {
   "cell_type": "markdown",
   "metadata": {},
   "source": [
    "### ACTIVATION FUNCTIONS"
   ]
  },
  {
   "cell_type": "markdown",
   "metadata": {},
   "source": [
    "In the biological world, Neurons does the decision making process. The below figure shows a 3 layer neural network: with 2 hidden layers and one output layer. Each element in the input layer(Blue layer), hidden layer(yellow layer) and output layer(green layer) are considered as neurons that communicates between the layers. \n",
    "\n"
   ]
  },
  {
   "cell_type": "markdown",
   "metadata": {},
   "source": [
    "<img src = \"http://10.241.1.85:8888/files/formulas/neural.jpg\">\n",
    "***\n",
    "<center> 3 Layer Neural Network</center>"
   ]
  },
  {
   "cell_type": "markdown",
   "metadata": {},
   "source": [
    "A Perceptron neuron is an artificial neuron, that takes many binary inputs and gives binary output. To compute result, weights (real numbers indicating the role of the inputs in the corresponding output) were used. The weighted sum of the product of input and weights, added with bias are compared with a threshold value to decide the neuron output as 0 or 1.\n",
    "The output from one layer is fed as input to the next layer. Such a network is called as a feed forward network. Each element in the hidden and output layer is called a neuron and it just does some simple tasks like: Reads input data, Process it and gives the output. By having a network of such a model we make it to ‘learn’, producing intelligent results that can be converged towards a decision making process. \n",
    "Perceptron is a basic network model which gets a weighted input from the previous layer. The results from a perceptron is found to be flipping as the weights / bias values change. \n",
    "\n",
    "Sigmoid neurons are considered to be better than perceptron. Though with some similarities with perceptron, sigmoid neurons deals with exponent values of inputs between 0 and 1. The output is a real number between 0 and 1. Sigmoid neuron is a smoothed version of a perceptron. \n",
    "\n",
    "There are many other learning algorithms and they will make our model learn and adapt the weights and biases of our model so as to provide us with the decision made. \n",
    "The activation functions produces a tensor of the same shape as their inputs.\n",
    "\n",
    "The most common activation function is called the Sigmoid. \n",
    "\n",
    "$$\\sigma(x) = 1/(1+e^{-x})$$ \n",
    "\n",
    "Other activation functions include:Softplus, Sigmoid, tanh, elu and tensor flow have their respective commands for these activation functions. \n",
    "\n",
    "Softmax Regression used for classification operation. It is a supervised learning algorithm. It has an added feature of being able to classify the input data to multiple groups, rather than to just 2 groups. In the case of MNIST digit recognition task, the number of groups is 10.\n",
    "Softmax regression requires evidence information, which is calculated using bias, weights and the input image. A weighted sum of the tallies up the evidence that it is in a specific class. A positive weight indicates that the evidence is in favor and belongs to that class. If the weight is negative then the pixel is evidence against the image belonging to that class.  \n",
    "\n"
   ]
  },
  {
   "cell_type": "markdown",
   "metadata": {},
   "source": [
    "Lets a try a simple implementation on tensor flow using the activation functions: Relu\n",
    "\n",
    "Example 5:"
   ]
  },
  {
   "cell_type": "code",
   "execution_count": 1,
   "metadata": {
    "collapsed": false
   },
   "outputs": [
    {
     "name": "stdout",
     "output_type": "stream",
     "text": [
      "Matrix PRoduct:  [[ 1.86839104  2.95219994 -5.63375902]]\n",
      "Weights:  [[ 1.29778051  1.18060446 -0.92449898]\n",
      " [-0.41769499 -0.18965411 -2.17894912]\n",
      " [ 0.46866682  0.71696788 -0.11712052]]\n",
      "Applying Activation function Softmax:  [[ 0.2432919   0.71915066  0.03755742]]\n"
     ]
    }
   ],
   "source": [
    "import tensorflow as tf\n",
    "import numpy as np\n",
    "\n",
    "input = tf.placeholder(\"float\",[1,3])\n",
    "weights = tf.Variable(tf.random_normal([3,3]),name = \"Weights\")\n",
    "y = tf.matmul(input,weights)\n",
    "relu_output = tf.nn.relu(y)\n",
    "softmax = tf.nn.softmax(relu_output)\n",
    "init = tf.initialize_all_variables()\n",
    "\n",
    "with tf.Session() as sess:\n",
    "    sess.run(init)\n",
    "    print \"Matrix PRoduct: \",sess.run(y,feed_dict={input:np.array([[1.0,2.0,3.0]])})\n",
    "    print \"Weights: \",sess.run(weights)\n",
    "    print \"Applying Activation function Softmax: \",sess.run(softmax,feed_dict={input:np.array([[1.0,2.0,3.0]])})\n"
   ]
  }
 ],
 "metadata": {
  "kernelspec": {
   "display_name": "Python 2",
   "language": "python",
   "name": "python2"
  },
  "language_info": {
   "codemirror_mode": {
    "name": "ipython",
    "version": 2
   },
   "file_extension": ".py",
   "mimetype": "text/x-python",
   "name": "python",
   "nbconvert_exporter": "python",
   "pygments_lexer": "ipython2",
   "version": "2.7.6"
  }
 },
 "nbformat": 4,
 "nbformat_minor": 0
}
